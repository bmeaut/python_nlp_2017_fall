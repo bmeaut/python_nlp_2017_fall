{
 "cells": [
  {
   "cell_type": "markdown",
   "metadata": {},
   "source": [
    "Write a function and a class version of each decorator.\n",
    "\n",
    "Timer decorator."
   ]
  },
  {
   "cell_type": "code",
   "execution_count": 1,
   "metadata": {},
   "outputs": [
    {
     "name": "stdout",
     "output_type": "stream",
     "text": [
      "Running time: 4.5e-05\n",
      "Running time: 0.294967\n"
     ]
    }
   ],
   "source": [
    "import functools\n",
    "from datetime import datetime\n",
    "\n",
    "def timer(func):\n",
    "    @functools.wraps(func)\n",
    "    def timed_func(*args, **kwargs):\n",
    "        start = datetime.now()\n",
    "        ret = func(*args, **kwargs)\n",
    "        tm = datetime.now() - start\n",
    "        print(\"Running time: {}\".format(tm.total_seconds()))\n",
    "        return ret\n",
    "    return timed_func\n",
    "\n",
    "@timer\n",
    "def fast_func():\n",
    "    for _ in range(1000):\n",
    "        pass\n",
    "    \n",
    "@timer\n",
    "def slow_func():\n",
    "    for _ in range(10000000):\n",
    "        pass\n",
    "    \n",
    "fast_func()\n",
    "slow_func()"
   ]
  },
  {
   "cell_type": "markdown",
   "metadata": {},
   "source": [
    "HTML tag adder."
   ]
  },
  {
   "cell_type": "code",
   "execution_count": 2,
   "metadata": {},
   "outputs": [
    {
     "data": {
      "text/plain": [
       "'<html>Hello Judit</html>'"
      ]
     },
     "execution_count": 2,
     "metadata": {},
     "output_type": "execute_result"
    }
   ],
   "source": [
    "def html_wrapper(func):\n",
    "    @functools.wraps(func)\n",
    "    def wrapped(*args, **kwargs):\n",
    "        return \"<html>{}</html>\".format(func(*args, **kwargs))\n",
    "    return wrapped\n",
    "\n",
    "@html_wrapper\n",
    "def greeter(name):\n",
    "    return \"Hello {}\".format(name)\n",
    "\n",
    "greeter(\"Judit\")"
   ]
  },
  {
   "cell_type": "markdown",
   "metadata": {},
   "source": [
    "Arbitrary tag adder."
   ]
  },
  {
   "cell_type": "code",
   "execution_count": 3,
   "metadata": {},
   "outputs": [
    {
     "data": {
      "text/plain": [
       "'<h1>Hello John</h1>'"
      ]
     },
     "execution_count": 3,
     "metadata": {},
     "output_type": "execute_result"
    }
   ],
   "source": [
    "def tag_wrapper(tag_name):\n",
    "    def concrete_decorator(func):\n",
    "        @functools.wraps(func)\n",
    "        def wrapped(*args, **kwargs):\n",
    "            return \"<{0}>{1}</{0}>\".format(tag_name, func(*args, **kwargs))\n",
    "        return wrapped\n",
    "    return concrete_decorator\n",
    "\n",
    "@tag_wrapper(\"h1\")\n",
    "def greeter(name):\n",
    "    return \"Hello {}\".format(name)\n",
    "\n",
    "greeter(\"John\")"
   ]
  },
  {
   "cell_type": "markdown",
   "metadata": {},
   "source": [
    "Check if all parameters (keyword too) are of a given type."
   ]
  },
  {
   "cell_type": "code",
   "execution_count": 4,
   "metadata": {},
   "outputs": [
    {
     "name": "stdout",
     "output_type": "stream",
     "text": [
      "I am 1 old\n"
     ]
    }
   ],
   "source": [
    "def check_type(param_type):\n",
    "    def concrete_decorator(func):\n",
    "        @functools.wraps(func)\n",
    "        def wrapped(*args, **kwargs):\n",
    "            for idx, arg in enumerate(args):\n",
    "                if not isinstance(arg, param_type):\n",
    "                    raise TypeError(\"Positional arg {0} is of wrong type ({1})\".format(idx, type(arg)))\n",
    "            for kw, arg in kwargs.items():\n",
    "                if not isinstance(arg, param_type):\n",
    "                    raise TypeError(\"{0} is of wrong type ({1})\".format(kw, type(arg)))\n",
    "            return func(*args, **kwargs)\n",
    "        return wrapped\n",
    "    return concrete_decorator\n",
    "\n",
    "@check_type(int)\n",
    "def age_printer(age):\n",
    "    print(\"I am {} old\".format(age))\n",
    "    \n",
    "age_printer(1)"
   ]
  },
  {
   "cell_type": "markdown",
   "metadata": {},
   "source": [
    "Write a decorator that makes sure that a function only raises one type of error. If it would raise another exception, raise this type instead.\n",
    "\n",
    "via https://github.com/manahl/PythonTrainingExercises"
   ]
  },
  {
   "cell_type": "code",
   "execution_count": 5,
   "metadata": {},
   "outputs": [],
   "source": [
    "# def only_one_exception(exc_type):"
   ]
  }
 ],
 "metadata": {
  "kernelspec": {
   "display_name": "Python 3",
   "language": "python",
   "name": "python3"
  },
  "language_info": {
   "codemirror_mode": {
    "name": "ipython",
    "version": 3
   },
   "file_extension": ".py",
   "mimetype": "text/x-python",
   "name": "python",
   "nbconvert_exporter": "python",
   "pygments_lexer": "ipython3",
   "version": "3.6.4"
  }
 },
 "nbformat": 4,
 "nbformat_minor": 2
}
