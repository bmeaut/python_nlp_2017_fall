{
 "cells": [
  {
   "cell_type": "markdown",
   "metadata": {},
   "source": [
    "# Introduction to Python and Natural Language Technologies\n",
    "\n",
    "# Lecture 04, Week 04\n",
    "\n",
    "### February 28, 2018"
   ]
  },
  {
   "cell_type": "markdown",
   "metadata": {},
   "source": [
    "# List comprehension\n",
    "\n",
    "- transform any iterable into a list in one line\n",
    "- syntactic sugar\n",
    "- example: create a list of the first N odd numbers starting from 1"
   ]
  },
  {
   "cell_type": "code",
   "execution_count": 1,
   "metadata": {},
   "outputs": [
    {
     "data": {
      "text/plain": [
       "[1, 3, 5, 7, 9, 11, 13, 15, 17, 19]"
      ]
     },
     "execution_count": 1,
     "metadata": {},
     "output_type": "execute_result"
    }
   ],
   "source": [
    "l = []\n",
    "for i in range(10):\n",
    "    l.append(2*i+1)\n",
    "l"
   ]
  },
  {
   "cell_type": "markdown",
   "metadata": {},
   "source": [
    "one-liner equivalent"
   ]
  },
  {
   "cell_type": "code",
   "execution_count": 2,
   "metadata": {},
   "outputs": [
    {
     "data": {
      "text/plain": [
       "[1, 3, 5, 7, 9, 11, 13, 15, 17, 19]"
      ]
     },
     "execution_count": 2,
     "metadata": {},
     "output_type": "execute_result"
    }
   ],
   "source": [
    "l = [2*i+1 for i in range(10)]\n",
    "l"
   ]
  },
  {
   "cell_type": "markdown",
   "metadata": {},
   "source": [
    "## The general form of list comprehension is\n",
    "\n",
    "~~~\n",
    "[<expression> for <element> in <sequence>]\n",
    "~~~"
   ]
  },
  {
   "cell_type": "markdown",
   "metadata": {},
   "source": [
    "conditional expressions can be added to filter the sequence:\n",
    "\n",
    "~~~\n",
    "[<expression> for <element> in <sequence> if <condition>]\n",
    "~~~"
   ]
  },
  {
   "cell_type": "code",
   "execution_count": 3,
   "metadata": {},
   "outputs": [
    {
     "data": {
      "text/plain": [
       "[0, 4, 16, 36, 64, 100, 144, 196, 256, 324]"
      ]
     },
     "execution_count": 3,
     "metadata": {},
     "output_type": "execute_result"
    }
   ],
   "source": [
    "even = [n*n for n in range(20) if n % 2 == 0]\n",
    "even"
   ]
  },
  {
   "cell_type": "markdown",
   "metadata": {},
   "source": [
    "which is equivalent to"
   ]
  },
  {
   "cell_type": "code",
   "execution_count": 4,
   "metadata": {},
   "outputs": [
    {
     "data": {
      "text/plain": [
       "[0, 2, 4, 6, 8, 10, 12, 14, 16, 18]"
      ]
     },
     "execution_count": 4,
     "metadata": {},
     "output_type": "execute_result"
    }
   ],
   "source": [
    "even = []\n",
    "for n in range(20):\n",
    "    if n % 2 == 0:\n",
    "        even.append(n)\n",
    "even"
   ]
  },
  {
   "cell_type": "markdown",
   "metadata": {},
   "source": [
    "- since this expression implements a filtering mechanism, there is no `else` clause\n",
    "\n",
    "- an if-else clause can be used as the first expression though:"
   ]
  },
  {
   "cell_type": "code",
   "execution_count": 5,
   "metadata": {},
   "outputs": [
    {
     "data": {
      "text/plain": [
       "[1, 0, -1, 1, -1, -1, 0]"
      ]
     },
     "execution_count": 5,
     "metadata": {},
     "output_type": "execute_result"
    }
   ],
   "source": [
    "l = [1, 0, -2, 3, -1, -5, 0]\n",
    "\n",
    "signum_l = [int(n / abs(n)) if n != 0 else 0 for n in l]\n",
    "signum_l"
   ]
  },
  {
   "cell_type": "code",
   "execution_count": 6,
   "metadata": {},
   "outputs": [
    {
     "data": {
      "text/plain": [
       "-1"
      ]
     },
     "execution_count": 6,
     "metadata": {},
     "output_type": "execute_result"
    }
   ],
   "source": [
    "n = -3.2\n",
    "int(n / abs(n)) if n != 0 else 0"
   ]
  },
  {
   "cell_type": "markdown",
   "metadata": {},
   "source": [
    "More than one sequence may be traversed. Is this depth-first or breadth-first traversal?"
   ]
  },
  {
   "cell_type": "code",
   "execution_count": 7,
   "metadata": {},
   "outputs": [
    {
     "data": {
      "text/plain": [
       "[(1, 4), (1, 5), (1, 6), (2, 4), (2, 5), (2, 6), (3, 4), (3, 5), (3, 6)]"
      ]
     },
     "execution_count": 7,
     "metadata": {},
     "output_type": "execute_result"
    }
   ],
   "source": [
    "l1 = [1, 2, 3]\n",
    "l2 = [4, 5, 6]\n",
    "\n",
    "[(i, j) for i in l1 for j in l2]"
   ]
  },
  {
   "cell_type": "code",
   "execution_count": 8,
   "metadata": {},
   "outputs": [
    {
     "data": {
      "text/plain": [
       "[(1, 4), (2, 4), (3, 4), (1, 5), (2, 5), (3, 5), (1, 6), (2, 6), (3, 6)]"
      ]
     },
     "execution_count": 8,
     "metadata": {},
     "output_type": "execute_result"
    }
   ],
   "source": [
    "[(i, j) for j in l2 for i in l1]"
   ]
  },
  {
   "cell_type": "markdown",
   "metadata": {},
   "source": [
    "List comprehensions may be nested by replacing the first expression with another list comprehension:"
   ]
  },
  {
   "cell_type": "code",
   "execution_count": 9,
   "metadata": {},
   "outputs": [
    {
     "data": {
      "text/plain": [
       "[[1, 4, 9], [25, 36, 49]]"
      ]
     },
     "execution_count": 9,
     "metadata": {},
     "output_type": "execute_result"
    }
   ],
   "source": [
    "matrix = [\n",
    "    [1, 2, 3],\n",
    "    [5, 6, 7]\n",
    "]\n",
    "\n",
    "[[e*e for e in row] for row in matrix]"
   ]
  },
  {
   "cell_type": "markdown",
   "metadata": {},
   "source": [
    "## What is the type of a (list) comprehension?"
   ]
  },
  {
   "cell_type": "code",
   "execution_count": 10,
   "metadata": {},
   "outputs": [
    {
     "data": {
      "text/plain": [
       "generator"
      ]
     },
     "execution_count": 10,
     "metadata": {},
     "output_type": "execute_result"
    }
   ],
   "source": [
    "i = (i for i in range(10))\n",
    "type(i)"
   ]
  },
  {
   "cell_type": "markdown",
   "metadata": {},
   "source": [
    "# Generator expressions\n",
    "\n",
    "Generator expressions are a generalization of list comprehension. They were introduced in PEP 289 in 2002.\n",
    "\n",
    "Check out the memory consumption of these cells."
   ]
  },
  {
   "cell_type": "code",
   "execution_count": 11,
   "metadata": {},
   "outputs": [
    {
     "data": {
      "text/plain": [
       "12"
      ]
     },
     "execution_count": 11,
     "metadata": {},
     "output_type": "execute_result"
    }
   ],
   "source": [
    "12"
   ]
  },
  {
   "cell_type": "code",
   "execution_count": 12,
   "metadata": {},
   "outputs": [
    {
     "name": "stdout",
     "output_type": "stream",
     "text": [
      "9999999900000000\n"
     ]
    }
   ],
   "source": [
    "N = 8\n",
    "s = sum([i*2 for i in range(int(10**N))])\n",
    "print(s)"
   ]
  },
  {
   "cell_type": "code",
   "execution_count": 13,
   "metadata": {},
   "outputs": [
    {
     "name": "stdout",
     "output_type": "stream",
     "text": [
      "9999999900000000\n"
     ]
    }
   ],
   "source": [
    "s = sum(i*2 for i in range(int(10**N)))\n",
    "print(s)"
   ]
  },
  {
   "cell_type": "markdown",
   "metadata": {},
   "source": [
    "Generators do not generate a list in memory"
   ]
  },
  {
   "cell_type": "code",
   "execution_count": 14,
   "metadata": {},
   "outputs": [
    {
     "data": {
      "text/plain": [
       "<generator object <genexpr> at 0x7fd288702468>"
      ]
     },
     "execution_count": 14,
     "metadata": {},
     "output_type": "execute_result"
    }
   ],
   "source": [
    "even_numbers = (2*n for n in range(10))\n",
    "even_numbers"
   ]
  },
  {
   "cell_type": "markdown",
   "metadata": {},
   "source": [
    "therefore they can only be traversed once"
   ]
  },
  {
   "cell_type": "code",
   "execution_count": 15,
   "metadata": {},
   "outputs": [
    {
     "name": "stdout",
     "output_type": "stream",
     "text": [
      "0\n",
      "2\n",
      "4\n",
      "6\n",
      "8\n",
      "10\n",
      "12\n",
      "14\n",
      "16\n",
      "18\n"
     ]
    }
   ],
   "source": [
    "for num in even_numbers:\n",
    "    print(num)"
   ]
  },
  {
   "cell_type": "markdown",
   "metadata": {},
   "source": [
    "the generator is empty after the first run"
   ]
  },
  {
   "cell_type": "code",
   "execution_count": 16,
   "metadata": {},
   "outputs": [],
   "source": [
    "for num in even_numbers:\n",
    "    print(num)"
   ]
  },
  {
   "cell_type": "markdown",
   "metadata": {},
   "source": [
    "calling `next()` raises a `StopIteration` exception"
   ]
  },
  {
   "cell_type": "code",
   "execution_count": 17,
   "metadata": {},
   "outputs": [
    {
     "name": "stdout",
     "output_type": "stream",
     "text": [
      "0\n",
      "2\n",
      "4\n",
      "6\n",
      "8\n",
      "10\n",
      "12\n",
      "14\n",
      "16\n",
      "18\n"
     ]
    }
   ],
   "source": [
    "even_numbers = (2*n for n in range(10))\n",
    "\n",
    "while True:\n",
    "    try:\n",
    "        print(next(even_numbers))\n",
    "    except StopIteration:\n",
    "        break"
   ]
  },
  {
   "cell_type": "code",
   "execution_count": 18,
   "metadata": {},
   "outputs": [],
   "source": [
    "# next(even_numbers)  # raises StopIteration"
   ]
  },
  {
   "cell_type": "markdown",
   "metadata": {},
   "source": [
    "these are actually the defining properties of the **iteration protocol**"
   ]
  },
  {
   "cell_type": "markdown",
   "metadata": {},
   "source": [
    "# Iteration protocol\n",
    "\n",
    "A class satisfies the iteration protocol if:\n",
    "\n",
    "1. it has a `__iter__` function that returns and iterator, which\n",
    "1. has a `__next__` function (this function is called `next` in Python 2),\n",
    "2. raises a `StopIteration` after a certain number of iterations\n",
    "\n",
    "For loops use the iteration protocol."
   ]
  },
  {
   "cell_type": "code",
   "execution_count": 19,
   "metadata": {},
   "outputs": [
    {
     "name": "stdout",
     "output_type": "stream",
     "text": [
      "Returning 4\n",
      "4\n",
      "Returning 3\n",
      "3\n",
      "Returning 2\n",
      "2\n",
      "Returning 1\n",
      "1\n",
      "Returning 0\n",
      "0\n"
     ]
    }
   ],
   "source": [
    "class MyIterator:\n",
    "    def __init__(self):\n",
    "        self.iter_no = 5\n",
    "        \n",
    "    def __iter__(self):\n",
    "        return self\n",
    "    \n",
    "    def __next__(self):\n",
    "        if self.iter_no <= 0:\n",
    "            raise StopIteration()\n",
    "        self.iter_no -= 1\n",
    "        print(\"Returning {}\".format(self.iter_no))\n",
    "        return self.iter_no\n",
    "    \n",
    "myiter = MyIterator()\n",
    "\n",
    "for i in myiter:\n",
    "    print(i)"
   ]
  },
  {
   "cell_type": "markdown",
   "metadata": {},
   "source": [
    "# Set and dict comprehension\n",
    "\n",
    "Sets and dictionaries can be instantiated via generator expressions too.\n",
    "\n",
    "A generator expression between curly brackets instantiates a set:"
   ]
  },
  {
   "cell_type": "code",
   "execution_count": 20,
   "metadata": {},
   "outputs": [
    {
     "data": {
      "text/plain": [
       "(set, 3, {'Apple', 'Pear', 'Plum'})"
      ]
     },
     "execution_count": 20,
     "metadata": {},
     "output_type": "execute_result"
    }
   ],
   "source": [
    "fruit_list = [\"apple\", \"plum\", \"apple\", \"pear\"]\n",
    "\n",
    "fruits = {fruit.title() for fruit in fruit_list}\n",
    "\n",
    "type(fruits), len(fruits), fruits"
   ]
  },
  {
   "cell_type": "markdown",
   "metadata": {},
   "source": [
    "if the expression in the generator is a key-value pair separated by a colon, it instantiates a dictionary:"
   ]
  },
  {
   "cell_type": "code",
   "execution_count": 21,
   "metadata": {},
   "outputs": [
    {
     "data": {
      "text/plain": [
       "(dict, 3, {'apple': 5, 'pear': 4, 'plum': 4})"
      ]
     },
     "execution_count": 21,
     "metadata": {},
     "output_type": "execute_result"
    }
   ],
   "source": [
    "word_list = [\"apple\", \"plum\", \"pear\", \"apple\", \"apple\"]\n",
    "word_length = {word: len(word) for word in word_list}\n",
    "type(word_length), len(word_length), word_length"
   ]
  },
  {
   "cell_type": "code",
   "execution_count": 22,
   "metadata": {},
   "outputs": [
    {
     "data": {
      "text/plain": [
       "{'a': 'avocado', 'p': 'pear'}"
      ]
     },
     "execution_count": 22,
     "metadata": {},
     "output_type": "execute_result"
    }
   ],
   "source": [
    "word_list = [\"apple\", \"plum\", \"pear\", \"avocado\"]\n",
    "first_letters = {word[0]: word for word in word_list}\n",
    "first_letters"
   ]
  },
  {
   "cell_type": "markdown",
   "metadata": {},
   "source": [
    "# `yield` keyword\n",
    "\n",
    "- if a function uses `yield` instead of return, it becomes a **generator function**\n",
    "- `yield` temporarily gives back the execution to the caller\n",
    "- the generator function continues"
   ]
  },
  {
   "cell_type": "code",
   "execution_count": 23,
   "metadata": {},
   "outputs": [],
   "source": [
    "def hungarian_vowels():\n",
    "    alphabet = (\"a\", \"á\", \"e\", \"é\", \"i\", \"í\", \"o\", \"ó\",\n",
    "                \"ö\", \"ő\", \"u\", \"ú\", \"ü\", \"ű\")\n",
    "    for vowel in alphabet:\n",
    "        yield vowel"
   ]
  },
  {
   "cell_type": "markdown",
   "metadata": {},
   "source": [
    "this function returns a generator object"
   ]
  },
  {
   "cell_type": "code",
   "execution_count": 24,
   "metadata": {},
   "outputs": [
    {
     "data": {
      "text/plain": [
       "generator"
      ]
     },
     "execution_count": 24,
     "metadata": {},
     "output_type": "execute_result"
    }
   ],
   "source": [
    "type(hungarian_vowels())"
   ]
  },
  {
   "cell_type": "code",
   "execution_count": 25,
   "metadata": {},
   "outputs": [
    {
     "name": "stdout",
     "output_type": "stream",
     "text": [
      "a\n",
      "á\n",
      "e\n",
      "é\n",
      "i\n",
      "í\n",
      "o\n",
      "ó\n",
      "ö\n",
      "ő\n",
      "u\n",
      "ú\n",
      "ü\n",
      "ű\n"
     ]
    }
   ],
   "source": [
    "for vowel in hungarian_vowels():\n",
    "    print(vowel)"
   ]
  },
  {
   "cell_type": "code",
   "execution_count": 26,
   "metadata": {},
   "outputs": [
    {
     "name": "stdout",
     "output_type": "stream",
     "text": [
      "first iteration: a, á, e, é, i, í, o, ó, ö, ő, u, ú, ü, ű\n",
      "second iteration: \n"
     ]
    }
   ],
   "source": [
    "gen = hungarian_vowels()\n",
    "\n",
    "print(\"first iteration: {}\".format(\", \".join(gen)))\n",
    "print(\"second iteration: {}\".format(\", \".join(gen)))"
   ]
  },
  {
   "cell_type": "markdown",
   "metadata": {},
   "source": [
    "The `next` function returns the next element of the generator.\n",
    "A `StopIteration` is raised when no more elements are left:"
   ]
  },
  {
   "cell_type": "code",
   "execution_count": 27,
   "metadata": {},
   "outputs": [
    {
     "name": "stdout",
     "output_type": "stream",
     "text": [
      "The next element is a\n",
      "The next element is á\n",
      "The next element is e\n",
      "The next element is é\n",
      "The next element is i\n",
      "The next element is í\n",
      "The next element is o\n",
      "The next element is ó\n",
      "The next element is ö\n",
      "The next element is ő\n",
      "The next element is u\n",
      "The next element is ú\n",
      "The next element is ü\n",
      "The next element is ű\n",
      "No more elements left :(\n"
     ]
    }
   ],
   "source": [
    "gen = hungarian_vowels()\n",
    "\n",
    "while True:\n",
    "    try:\n",
    "        print(\"The next element is {}\".format(next(gen)))\n",
    "    except StopIteration:\n",
    "        print(\"No more elements left :(\")\n",
    "        break"
   ]
  },
  {
   "cell_type": "markdown",
   "metadata": {},
   "source": [
    "the generator function returns a new generator object every time it's called"
   ]
  },
  {
   "cell_type": "code",
   "execution_count": 28,
   "metadata": {},
   "outputs": [
    {
     "name": "stdout",
     "output_type": "stream",
     "text": [
      "False\n",
      "gen1 first time: ['a', 'á', 'e', 'é', 'i', 'í', 'o', 'ó', 'ö', 'ő', 'u', 'ú', 'ü', 'ű']\n",
      "gen1 second time: []\n",
      "gen2 first time: ['a', 'á', 'e', 'é', 'i', 'í', 'o', 'ó', 'ö', 'ő', 'u', 'ú', 'ü', 'ű']\n"
     ]
    }
   ],
   "source": [
    "gen1 = hungarian_vowels()\n",
    "gen2 = hungarian_vowels()\n",
    "\n",
    "print(gen1 is gen2)\n",
    "print(\"gen1 first time:\", list(gen1))\n",
    "print(\"gen1 second time:\", list(gen1))\n",
    "print(\"gen2 first time:\", list(gen2))"
   ]
  },
  {
   "cell_type": "markdown",
   "metadata": {},
   "source": [
    "iterators can only be traversed forward, but we can easily wrap an iterator to have memory:"
   ]
  },
  {
   "cell_type": "code",
   "execution_count": 29,
   "metadata": {},
   "outputs": [],
   "source": [
    "def iter_with_memory(orig_iter):\n",
    "    prev = None\n",
    "    for current in orig_iter:\n",
    "        yield current, prev\n",
    "        prev = current"
   ]
  },
  {
   "cell_type": "code",
   "execution_count": 30,
   "metadata": {},
   "outputs": [
    {
     "name": "stdout",
     "output_type": "stream",
     "text": [
      "('a', None)\n",
      "('á', 'a')\n",
      "('e', 'á')\n",
      "('é', 'e')\n",
      "('i', 'é')\n",
      "('í', 'i')\n",
      "('o', 'í')\n",
      "('ó', 'o')\n",
      "('ö', 'ó')\n",
      "('ő', 'ö')\n",
      "('u', 'ő')\n",
      "('ú', 'u')\n",
      "('ü', 'ú')\n",
      "('ű', 'ü')\n"
     ]
    }
   ],
   "source": [
    "for i in iter_with_memory(hungarian_vowels()):\n",
    "    print(i)"
   ]
  },
  {
   "cell_type": "markdown",
   "metadata": {},
   "source": [
    "## Q. Add a `memory_size` parameter to the previous function which specifies how many of the previous elements are stored.\n",
    "\n",
    "You can yield them in a list or better, wrap it in a class."
   ]
  },
  {
   "cell_type": "code",
   "execution_count": null,
   "metadata": {},
   "outputs": [],
   "source": []
  },
  {
   "cell_type": "markdown",
   "metadata": {},
   "source": [
    "# Exercises\n",
    "\n",
    "Generator expressions can be particularly useful for formatted output. We will demonstrate this through a few examples."
   ]
  },
  {
   "cell_type": "code",
   "execution_count": 31,
   "metadata": {},
   "outputs": [
    {
     "name": "stdout",
     "output_type": "stream",
     "text": [
      "1, -2, 3, 1\n"
     ]
    }
   ],
   "source": [
    "numbers = [1, -2, 3, 1]\n",
    "\n",
    "# print(\", \".join(numbers))  # raises TypeError\n",
    "print(\", \".join(str(number) for number in numbers))"
   ]
  },
  {
   "cell_type": "code",
   "execution_count": 32,
   "metadata": {},
   "outputs": [],
   "source": [
    "shopping_list = [\"apple\", \"plum\", \"pear\"]"
   ]
  },
  {
   "cell_type": "markdown",
   "metadata": {},
   "source": [
    "~~~\n",
    "The shopping list is:\n",
    "item 1: apple\n",
    "item 2: plum\n",
    "item 3: pear\n",
    "~~~"
   ]
  },
  {
   "cell_type": "code",
   "execution_count": 33,
   "metadata": {},
   "outputs": [
    {
     "name": "stdout",
     "output_type": "stream",
     "text": [
      "The shopping list is:\n",
      "item 1: apple\n",
      "item 2: plum\n",
      "item 3: pear\n"
     ]
    }
   ],
   "source": [
    "shopping_list = [\"apple\", \"plum\", \"pear\"]\n",
    "\n",
    "print(\"The shopping list is:\\n{}\".format(\n",
    "    \"\\n\".join(\"item {0}: {1}\".format(idx+1, element) for idx, element in enumerate(shopping_list))\n",
    "))"
   ]
  },
  {
   "cell_type": "markdown",
   "metadata": {},
   "source": [
    "## Q. Print the following shopping list with quantities.\n",
    "\n",
    "For example:\n",
    "\n",
    "~~~\n",
    "item 1: apple, quantity: 2\n",
    "item 2: pear, quantity: 1\n",
    "~~~"
   ]
  },
  {
   "cell_type": "code",
   "execution_count": 34,
   "metadata": {},
   "outputs": [
    {
     "name": "stdout",
     "output_type": "stream",
     "text": [
      "item 1: apple, quantity: 2\n",
      "item 2: pear, quantity: 1\n",
      "item 3: plum, quantity: 5\n"
     ]
    }
   ],
   "source": [
    "shopping_list = {\n",
    "    \"apple\": 2,\n",
    "    \"pear\": 1,\n",
    "    \"plum\": 5,\n",
    "}\n",
    "print(\"\\n\".join(\n",
    "    \"item {0}: {1}, quantity: {2}\".format( idx+1, item, quantity)\n",
    "    for idx, (item, quantity) in enumerate(shopping_list.items())\n",
    "))"
   ]
  },
  {
   "cell_type": "markdown",
   "metadata": {},
   "source": [
    "## Q. Print the same format in alphabetical order.\n",
    "\n",
    "- Decreasing order by quantity"
   ]
  },
  {
   "cell_type": "code",
   "execution_count": 35,
   "metadata": {},
   "outputs": [
    {
     "name": "stdout",
     "output_type": "stream",
     "text": [
      "item 1: apple, quantity: 2\n",
      "item 2: pear, quantity: 1\n",
      "item 3: plum, quantity: 5\n"
     ]
    }
   ],
   "source": [
    "shopping_list = {\n",
    "    \"apple\": 2,\n",
    "    \"pear\": 1,\n",
    "    \"plum\": 5,\n",
    "}\n",
    "print(\"\\n\".join(\"item {0}: {1}, quantity: {2}\".format(idx+1, item, quantity)\n",
    "                for idx, (item, quantity) in sorted(enumerate(shopping_list.items()))\n",
    "))"
   ]
  },
  {
   "cell_type": "code",
   "execution_count": 36,
   "metadata": {},
   "outputs": [
    {
     "name": "stdout",
     "output_type": "stream",
     "text": [
      "item 1: plum, quantity: 5\n",
      "item 2: apple, quantity: 2\n",
      "item 3: pear, quantity: 1\n"
     ]
    }
   ],
   "source": [
    "print(\"\\n\".join(\n",
    "    \"item {0}: {1}, quantity: {2}\".format(idx+1, item, quantity) for idx, (item, quantity) in\n",
    "    enumerate(sorted(shopping_list.items(), key=lambda x: -x[1]))))"
   ]
  },
  {
   "cell_type": "markdown",
   "metadata": {},
   "source": [
    "## Q. Print the list of students. "
   ]
  },
  {
   "cell_type": "code",
   "execution_count": 37,
   "metadata": {},
   "outputs": [],
   "source": [
    "students = [\n",
    "    [\"Joe\", \"John\", \"Mary\"],\n",
    "    [\"Tina\", \"Tony\", \"Jeff\", \"Béla\"],\n",
    "    [\"Pete\", \"Dave\"],\n",
    "]"
   ]
  },
  {
   "cell_type": "code",
   "execution_count": null,
   "metadata": {},
   "outputs": [],
   "source": []
  },
  {
   "cell_type": "markdown",
   "metadata": {},
   "source": [
    "## Q. Print one class-per-line and print the size of the class too\n",
    "\n",
    "Example:\n",
    "~~~\n",
    "class 1, size: 3, students: Joe, John, Mary\n",
    "class 2, size: 2, students: Pete, Dave\n",
    "~~~"
   ]
  },
  {
   "cell_type": "code",
   "execution_count": null,
   "metadata": {},
   "outputs": [],
   "source": []
  },
  {
   "cell_type": "markdown",
   "metadata": {},
   "source": [
    "## Q. Sort the classes by size in increasing order\n",
    "\n",
    "Example:\n",
    "~~~\n",
    "class 1, size: 2, students: Pete, Dave\n",
    "class 2, size: 3, students: Joe, John, Mary\n",
    "~~~"
   ]
  },
  {
   "cell_type": "code",
   "execution_count": null,
   "metadata": {},
   "outputs": [],
   "source": []
  },
  {
   "cell_type": "markdown",
   "metadata": {},
   "source": [
    "# Exception handling\n",
    "\n",
    "- fully typed exception handling"
   ]
  },
  {
   "cell_type": "code",
   "execution_count": 38,
   "metadata": {},
   "outputs": [
    {
     "name": "stdout",
     "output_type": "stream",
     "text": [
      "<class 'ValueError'> invalid literal for int() with base 10: 'abc'\n",
      "invalid literal for int() with base 10: 'abc'\n"
     ]
    }
   ],
   "source": [
    "try:\n",
    "    int(\"abc\")\n",
    "except ValueError as e:\n",
    "    print(type(e), e)\n",
    "    print(e)"
   ]
  },
  {
   "cell_type": "markdown",
   "metadata": {},
   "source": [
    "- more than one except clauses may be defined\n",
    "- ordered from more specific to least specific"
   ]
  },
  {
   "cell_type": "code",
   "execution_count": 39,
   "metadata": {},
   "outputs": [
    {
     "name": "stdout",
     "output_type": "stream",
     "text": [
      "12\n"
     ]
    }
   ],
   "source": [
    "try:\n",
    "    age = int(input())\n",
    "    if age < 0:\n",
    "        raise Exception(\"Age cannot be negative\")\n",
    "except ValueError as e:\n",
    "    print(\"ValueError caught\")\n",
    "except Exception as e:\n",
    "    print(\"Other exception caught: {}\".format(type(e)))"
   ]
  },
  {
   "cell_type": "markdown",
   "metadata": {},
   "source": [
    "### More than one type of exception can be handled in the same except clause"
   ]
  },
  {
   "cell_type": "code",
   "execution_count": 40,
   "metadata": {},
   "outputs": [
    {
     "name": "stdout",
     "output_type": "stream",
     "text": [
      "alma\n",
      "ValueError caught\n"
     ]
    }
   ],
   "source": [
    "def age_printer(age):\n",
    "    next_age = age + 1\n",
    "    print(\"Next year your age will be \" + next_age)\n",
    "    \n",
    "try:\n",
    "    your_age = input()\n",
    "    your_age = int(your_age)\n",
    "    age_printer(your_age)\n",
    "except ValueError:\n",
    "    print(\"ValueError caught\")\n",
    "except TypeError:\n",
    "    print(\"TypeError caught\")"
   ]
  },
  {
   "cell_type": "code",
   "execution_count": 41,
   "metadata": {},
   "outputs": [
    {
     "name": "stdout",
     "output_type": "stream",
     "text": [
      "12\n",
      "TypeError caught\n"
     ]
    }
   ],
   "source": [
    "def age_printer(age):\n",
    "    next_age = age + 1\n",
    "    print(\"Next year your age will be \" + next_age)\n",
    "    \n",
    "try:\n",
    "    your_age = input()\n",
    "    your_age = int(your_age)\n",
    "    age_printer(your_age)\n",
    "except (ValueError, TypeError) as e:\n",
    "    print(\"{} caught\".format(type(e).__name__))"
   ]
  },
  {
   "cell_type": "markdown",
   "metadata": {},
   "source": [
    "### except without an Exception type\n",
    "\n",
    "- without specifying a type, `except` catches everything but all information about the exception is lost"
   ]
  },
  {
   "cell_type": "code",
   "execution_count": 42,
   "metadata": {},
   "outputs": [
    {
     "name": "stdout",
     "output_type": "stream",
     "text": [
      "abc\n",
      "ValueError caught\n"
     ]
    }
   ],
   "source": [
    "try:\n",
    "    age = int(input())\n",
    "    if age < 0:\n",
    "        raise Exception(\"Age cannot be negative\")\n",
    "except ValueError:\n",
    "    print(\"ValueError caught\")\n",
    "except:\n",
    "#except Exception as e:\n",
    "    print(\"Something else caught\")"
   ]
  },
  {
   "cell_type": "markdown",
   "metadata": {},
   "source": [
    "- the empty `except` must be the last except block since it blocks all others\n",
    "- `SyntaxError` otherwise"
   ]
  },
  {
   "cell_type": "code",
   "execution_count": 43,
   "metadata": {},
   "outputs": [
    {
     "name": "stdout",
     "output_type": "stream",
     "text": [
      "23\n"
     ]
    }
   ],
   "source": [
    "try:\n",
    "    age = int(input())\n",
    "    if age < 0:\n",
    "        raise Exception(\"Age cannot be negative\")\n",
    "#except:\n",
    "    #print(\"Something else caught\")\n",
    "except ValueError:\n",
    "    print(\"ValueError caught\")"
   ]
  },
  {
   "cell_type": "markdown",
   "metadata": {},
   "source": [
    "### Base class' except clauses catch derived classes too"
   ]
  },
  {
   "cell_type": "code",
   "execution_count": 44,
   "metadata": {},
   "outputs": [
    {
     "name": "stdout",
     "output_type": "stream",
     "text": [
      "abc\n",
      "Exception caught: <class 'ValueError'>\n"
     ]
    }
   ],
   "source": [
    "try:\n",
    "    age = int(input())\n",
    "    if age < 0:\n",
    "        raise Exception(\"Age cannot be negative\")\n",
    "except Exception as e:\n",
    "    print(\"Exception caught: {}\".format(type(e)))\n",
    "except ValueError:\n",
    "    print(\"ValueError caught\")"
   ]
  },
  {
   "cell_type": "markdown",
   "metadata": {},
   "source": [
    "### finally\n",
    "\n",
    "- the `finally` block is guaranteed to run regardless an exception was raised or not"
   ]
  },
  {
   "cell_type": "code",
   "execution_count": 45,
   "metadata": {},
   "outputs": [
    {
     "name": "stdout",
     "output_type": "stream",
     "text": [
      "abc\n",
      "<class 'ValueError'> invalid literal for int() with base 10: 'abc'\n",
      "this always runs\n"
     ]
    }
   ],
   "source": [
    "try:\n",
    "    age = int(input())\n",
    "except Exception as e:\n",
    "    print(type(e), e)\n",
    "finally:\n",
    "    print(\"this always runs\")"
   ]
  },
  {
   "cell_type": "markdown",
   "metadata": {},
   "source": [
    "### else\n",
    "\n",
    "- try-except blocks may have an else clause that **only** runs if no exception was raised"
   ]
  },
  {
   "cell_type": "code",
   "execution_count": 46,
   "metadata": {},
   "outputs": [
    {
     "name": "stdout",
     "output_type": "stream",
     "text": [
      "12\n",
      "No exception was raised\n",
      "this always runs\n"
     ]
    }
   ],
   "source": [
    "try:\n",
    "    age = int(input())\n",
    "except ValueError as e:\n",
    "    print(\"Exception\", e)\n",
    "else:\n",
    "    print(\"No exception was raised\")\n",
    "    # raise Exception(\"Raising an exception in else\")\n",
    "finally:\n",
    "    print(\"this always runs\")"
   ]
  },
  {
   "cell_type": "markdown",
   "metadata": {},
   "source": [
    "### `raise` keyword\n",
    "\n",
    "- `raise` throws/raises an exception\n",
    "- an empty `raise` in an `except`"
   ]
  },
  {
   "cell_type": "code",
   "execution_count": 47,
   "metadata": {},
   "outputs": [],
   "source": [
    "try:\n",
    "    int(\"not a number\")\n",
    "except Exception:\n",
    "    # important log message\n",
    "    # raise\n",
    "    pass"
   ]
  },
  {
   "cell_type": "markdown",
   "metadata": {},
   "source": [
    "### Defining exceptions\n",
    "\n",
    "- any type that subclasses `Exception` (`BaseException` to be exact) can be used as an exception object"
   ]
  },
  {
   "cell_type": "code",
   "execution_count": 48,
   "metadata": {},
   "outputs": [
    {
     "name": "stdout",
     "output_type": "stream",
     "text": [
      "-11\n",
      "Age cannot be negative. Invalid age: -11\n"
     ]
    }
   ],
   "source": [
    "class NegativeAgeError(Exception):\n",
    "    pass\n",
    "\n",
    "try:\n",
    "    age = int(input())\n",
    "    if age < 0:\n",
    "        raise NegativeAgeError(\"Age cannot be negative. Invalid age: {}\".format(age))\n",
    "except NegativeAgeError as e:\n",
    "    print(e)\n",
    "except Exception as e:\n",
    "    print(\"Something else happened. Caught {}, with message {}\".format(type(e), e))"
   ]
  },
  {
   "cell_type": "markdown",
   "metadata": {},
   "source": [
    "Using exception for trial-and-error is considered Pythonic:"
   ]
  },
  {
   "cell_type": "code",
   "execution_count": 49,
   "metadata": {},
   "outputs": [
    {
     "name": "stdout",
     "output_type": "stream",
     "text": [
      "12\n",
      "looks like an int\n"
     ]
    }
   ],
   "source": [
    "try:\n",
    "    v = input()\n",
    "    int(v)\n",
    "except ValueError:\n",
    "    print(\"not an int\")\n",
    "else:\n",
    "    print(\"looks like an int\")"
   ]
  },
  {
   "cell_type": "markdown",
   "metadata": {
    "collapsed": true
   },
   "source": [
    "# Context managers\n",
    "\n",
    "- there are two types of resources: managed and unmanaged\n",
    "\n",
    "## Managed resources\n",
    "\n",
    "- resource acquisition and release are automatically done\n",
    "- no need for manual resource management\n",
    "- example: memory\n",
    "  - C++ has both managed and unmanaged memory management. The stack is managed, but the heap is not, we need to manually call `new` and `delete`.\n",
    "\n",
    "## Unmanaged resources\n",
    "\n",
    "- unmanaged resources need explicit release\n",
    "- otherwise the operating system may run out of the resource\n",
    "- examples include files, network sockets"
   ]
  },
  {
   "cell_type": "code",
   "execution_count": 50,
   "metadata": {},
   "outputs": [
    {
     "data": {
      "text/plain": [
       "969"
      ]
     },
     "execution_count": 50,
     "metadata": {},
     "output_type": "execute_result"
    }
   ],
   "source": [
    "fh = []\n",
    "while True:\n",
    "    try:\n",
    "        fh.append(open(\"abc.txt\", \"w\"))\n",
    "    except OSError:\n",
    "        break\n",
    "len(fh)"
   ]
  },
  {
   "cell_type": "code",
   "execution_count": 51,
   "metadata": {},
   "outputs": [],
   "source": [
    "for f in fh:\n",
    "    f.close()"
   ]
  },
  {
   "cell_type": "markdown",
   "metadata": {},
   "source": [
    "- we need to manually close the file\n",
    "- what happens when an exception occurs"
   ]
  },
  {
   "cell_type": "code",
   "execution_count": 52,
   "metadata": {},
   "outputs": [],
   "source": [
    "s1 = \"important text\"\n",
    "fh = open(\"file.txt\", \"w\")\n",
    "# fh.write(s2)  # raises NameError\n",
    "fh.close()"
   ]
  },
  {
   "cell_type": "markdown",
   "metadata": {},
   "source": [
    "- the file is never closed, the file descriptor **is leaked**\n",
    "- a solution would be to use try-except blocks with `finally` clauses"
   ]
  },
  {
   "cell_type": "code",
   "execution_count": 53,
   "metadata": {},
   "outputs": [
    {
     "name": "stdout",
     "output_type": "stream",
     "text": [
      "Closing file\n"
     ]
    },
    {
     "name": "stderr",
     "output_type": "stream",
     "text": [
      "NameError happened"
     ]
    }
   ],
   "source": [
    "from sys import stderr\n",
    "\n",
    "fh = open(\"file.txt\", \"w\")\n",
    "try:\n",
    "    fh.write(important_variable)\n",
    "except Exception as e:\n",
    "    stderr.write(\"{0} happened\".format(type(e).__name__))\n",
    "finally:\n",
    "    print(\"Closing file\")\n",
    "    fh.close()"
   ]
  },
  {
   "cell_type": "markdown",
   "metadata": {},
   "source": [
    "## Context managers handle this automatically\n",
    "\n",
    "- the `with` keyword opens a resource\n",
    "- keeps it open until the execution leaves with's scope\n",
    "- releases the resource regardless whether an exception is raised or not"
   ]
  },
  {
   "cell_type": "code",
   "execution_count": 54,
   "metadata": {},
   "outputs": [],
   "source": [
    "with open(\"file.txt\", \"w\") as fh:\n",
    "    fh.write(\"abc\\n\")\n",
    "    # fh.write(important_variable)  # raises NameError"
   ]
  },
  {
   "cell_type": "markdown",
   "metadata": {},
   "source": [
    "## Defining context managers\n",
    "\n",
    "- any class can be a context manager if it implements:\n",
    "  1. `__enter__`: runs at the beginning of the `with`. Returns the resource.\n",
    "  1. `__exit__`: runs after the with block. Releases the resource."
   ]
  },
  {
   "cell_type": "code",
   "execution_count": 55,
   "metadata": {},
   "outputs": [
    {
     "name": "stdout",
     "output_type": "stream",
     "text": [
      "Dummy resource acquired\n",
      "Resource: 42\n",
      "Dummy resource released\n"
     ]
    }
   ],
   "source": [
    "class DummyContextManager:\n",
    "    def __init__(self, value):\n",
    "        self.value = value\n",
    "        \n",
    "    def __enter__(self):\n",
    "        print(\"Dummy resource acquired\")\n",
    "        return self.value\n",
    "    \n",
    "    def __exit__(self, *args):\n",
    "        print(\"Dummy resource released\")\n",
    "        \n",
    "with DummyContextManager(42) as d:\n",
    "    print(\"Resource: {}\".format(d))"
   ]
  },
  {
   "cell_type": "markdown",
   "metadata": {},
   "source": [
    "`__exit__` takes 3 extra arguments that describe the exception: `exc_type`, `exc_value`, `traceback`"
   ]
  },
  {
   "cell_type": "code",
   "execution_count": 56,
   "metadata": {},
   "outputs": [
    {
     "name": "stdout",
     "output_type": "stream",
     "text": [
      "Dummy resource acquired\n",
      "42\n",
      "Dummy resource released\n"
     ]
    }
   ],
   "source": [
    "class DummyContextManager:\n",
    "    def __init__(self, value):\n",
    "        self.value = value\n",
    "        \n",
    "    def __enter__(self):\n",
    "        print(\"Dummy resource acquired\")\n",
    "        return self.value\n",
    "    \n",
    "    def __exit__(self, exc_type, exc_value, traceback):\n",
    "        if exc_type is not None:\n",
    "            print(\"{0} with value {1} caught\\n\"\n",
    "                  \"Traceback: {2}\".format(\n",
    "                      exc_type, exc_value, traceback))\n",
    "        print(\"Dummy resource released\")\n",
    "        \n",
    "with DummyContextManager(42) as d:\n",
    "    print(d)\n",
    "    # raise ValueError(\"just because I can\")  # __exit__ will be called anyway"
   ]
  }
 ],
 "metadata": {
  "kernelspec": {
   "display_name": "Python 3",
   "language": "python",
   "name": "python3"
  },
  "language_info": {
   "codemirror_mode": {
    "name": "ipython",
    "version": 3
   },
   "file_extension": ".py",
   "mimetype": "text/x-python",
   "name": "python",
   "nbconvert_exporter": "python",
   "pygments_lexer": "ipython3",
   "version": "3.6.4"
  }
 },
 "nbformat": 4,
 "nbformat_minor": 2
}
